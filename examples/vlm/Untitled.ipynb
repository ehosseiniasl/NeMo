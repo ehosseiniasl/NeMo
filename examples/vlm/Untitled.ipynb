{
 "cells": [
  {
   "cell_type": "code",
   "execution_count": 1,
   "id": "18f47250-bec0-4f84-8c26-7baccf641ec9",
   "metadata": {
    "tags": []
   },
   "outputs": [
    {
     "name": "stderr",
     "output_type": "stream",
     "text": [
      "/opt/megatron-lm/megatron/core/tensor_parallel/layers.py:280: FutureWarning: `torch.cuda.amp.custom_fwd(args...)` is deprecated. Please use `torch.amp.custom_fwd(args..., device_type='cuda')` instead.\n",
      "  def forward(ctx, input, weight, bias, allreduce_dgrad):\n",
      "/opt/megatron-lm/megatron/core/tensor_parallel/layers.py:290: FutureWarning: `torch.cuda.amp.custom_bwd(args...)` is deprecated. Please use `torch.amp.custom_bwd(args..., device_type='cuda')` instead.\n",
      "  def backward(ctx, grad_output):\n",
      "/opt/megatron-lm/megatron/core/tensor_parallel/layers.py:381: FutureWarning: `torch.cuda.amp.custom_fwd(args...)` is deprecated. Please use `torch.amp.custom_fwd(args..., device_type='cuda')` instead.\n",
      "  def forward(\n",
      "/opt/megatron-lm/megatron/core/tensor_parallel/layers.py:420: FutureWarning: `torch.cuda.amp.custom_bwd(args...)` is deprecated. Please use `torch.amp.custom_bwd(args..., device_type='cuda')` instead.\n",
      "  def backward(ctx, grad_output):\n",
      "/usr/local/lib/python3.10/dist-packages/torch/cuda/__init__.py:651: UserWarning: Can't initialize NVML\n",
      "  warnings.warn(\"Can't initialize NVML\")\n"
     ]
    }
   ],
   "source": [
    "from megatron.core.models.multimodal.llava_model import LLaVAModel as MCoreLLaVAModel\n"
   ]
  },
  {
   "cell_type": "code",
   "execution_count": 2,
   "id": "3fe792f9-5096-43ee-8b4e-298034f4149c",
   "metadata": {
    "tags": []
   },
   "outputs": [],
   "source": [
    "import nemo"
   ]
  },
  {
   "cell_type": "code",
   "execution_count": 5,
   "id": "c8f9dd1f-e8f8-4974-adc5-5aa14f5552c4",
   "metadata": {
    "tags": []
   },
   "outputs": [
    {
     "name": "stderr",
     "output_type": "stream",
     "text": [
      "/usr/local/lib/python3.10/dist-packages/tqdm/auto.py:21: TqdmWarning: IProgress not found. Please update jupyter and ipywidgets. See https://ipywidgets.readthedocs.io/en/stable/user_install.html\n",
      "  from .autonotebook import tqdm as notebook_tqdm\n"
     ]
    }
   ],
   "source": [
    "import argparse\n",
    "\n",
    "import requests\n",
    "import torch\n",
    "from PIL import Image\n",
    "from transformers import AutoProcessor"
   ]
  },
  {
   "cell_type": "code",
   "execution_count": 6,
   "id": "7e630fa4-3d2a-496e-9279-024c530b2f30",
   "metadata": {},
   "outputs": [],
   "source": [
    "processor = AutoProcessor.from_pretrained(\"llava-hf/llava-v1.6-mistral-7b-hf\")"
   ]
  },
  {
   "cell_type": "code",
   "execution_count": 8,
   "id": "32c23901-2d91-4017-9d82-2e1b4df83c9d",
   "metadata": {
    "tags": []
   },
   "outputs": [],
   "source": [
    "image_processor = processor.image_processor"
   ]
  },
  {
   "cell_type": "code",
   "execution_count": 10,
   "id": "d8c78a49-df70-4e17-a9eb-8ca23a92e2d9",
   "metadata": {
    "tags": []
   },
   "outputs": [],
   "source": [
    "url = 'http://images.cocodataset.org/val2017/000000039769.jpg'\n",
    "def load_image(image_url: str) -> Image.Image:\n",
    "    try:\n",
    "        response = requests.get(image_url, stream=True)\n",
    "        response.raise_for_status()\n",
    "        image = Image.open(response.raw)\n",
    "        return image\n",
    "    except requests.exceptions.RequestException as e:\n",
    "        print(f\"Error loading image from {image_url}: {e}\")\n",
    "        return None"
   ]
  },
  {
   "cell_type": "code",
   "execution_count": 11,
   "id": "f4f60e0b-2ad2-4f52-8978-92c6d251645a",
   "metadata": {
    "tags": []
   },
   "outputs": [],
   "source": [
    "raw_image = load_image(url)\n"
   ]
  },
  {
   "cell_type": "code",
   "execution_count": 14,
   "id": "089466ed-eec8-4d39-a9e2-a8776b8f4dc9",
   "metadata": {
    "tags": []
   },
   "outputs": [],
   "source": [
    "temp_out = image_processor(raw_image)\n"
   ]
  },
  {
   "cell_type": "code",
   "execution_count": 20,
   "id": "31d2483f-775d-43ce-8cb4-337513d9e8bd",
   "metadata": {
    "tags": []
   },
   "outputs": [
    {
     "data": {
      "text/plain": [
       "numpy.ndarray"
      ]
     },
     "execution_count": 20,
     "metadata": {},
     "output_type": "execute_result"
    }
   ],
   "source": [
    "type(temp_out['pixel_values'][0])"
   ]
  },
  {
   "cell_type": "code",
   "execution_count": null,
   "id": "57945356-585a-4632-b921-02f0cd9132d7",
   "metadata": {},
   "outputs": [],
   "source": []
  }
 ],
 "metadata": {
  "kernelspec": {
   "display_name": "Python 3 (ipykernel)",
   "language": "python",
   "name": "python3"
  },
  "language_info": {
   "codemirror_mode": {
    "name": "ipython",
    "version": 3
   },
   "file_extension": ".py",
   "mimetype": "text/x-python",
   "name": "python",
   "nbconvert_exporter": "python",
   "pygments_lexer": "ipython3",
   "version": "3.10.12"
  }
 },
 "nbformat": 4,
 "nbformat_minor": 5
}
